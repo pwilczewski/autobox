{
 "cells": [
  {
   "cell_type": "code",
   "execution_count": 1,
   "metadata": {},
   "outputs": [],
   "source": [
    "import pandas as pd\n",
    "import statsmodels as sm\n",
    "from langchain_core.messages import HumanMessage\n",
    "from langchain_openai import ChatOpenAI\n",
    "from langchain_core.prompts import ChatPromptTemplate\n",
    "\n",
    "df = pd.read_csv(\"USSTHPI.csv\")\n",
    "# df = pd.read_csv(\"HOUST.csv\")\n",
    "\n",
    "system_prompt = \"\"\"You are working with a pandas dataframe in Python. The name of the dataframe is `df`.\n",
    "                It is important to understand the attributes of the dataframe before working with it. This is the result of running `df.head().to_markdown()`\n",
    "\n",
    "                <df>\n",
    "                {dhead}\n",
    "                </df>\n",
    "\n",
    "                You also do not have use only the information here to answer questions - you can run intermediate queries to do exploratory data analysis to give you more information as needed. \"\"\"\n",
    "system_prompt = system_prompt.format(dhead=df.head().to_markdown())\n",
    "\n",
    "llm = ChatOpenAI(model=\"gpt-4o-mini-2024-07-18\", top_p=0.00001, seed=42424242)\n",
    "llm_big = ChatOpenAI(model=\"gpt-4o\", top_p=0.00001, seed=42424242)"
   ]
  },
  {
   "cell_type": "code",
   "execution_count": null,
   "metadata": {},
   "outputs": [],
   "source": [
    "from langchain_experimental.agents.agent_toolkits import create_pandas_dataframe_agent\n",
    "\n",
    "agent = create_pandas_dataframe_agent(llm_big, df, allow_dangerous_code=True, verbose=True)\n",
    "\n",
    "prompt = ChatPromptTemplate.from_messages(\n",
    "    [\n",
    "        ( \"system\", system_prompt, ),\n",
    "        HumanMessage(content=\"Estimate an ARIMA model using the Box-Jenkins approach for the data provided.\"),\n",
    "    ]\n",
    ")\n",
    "\n",
    "agent.invoke({\"input\": prompt}, {\"recursion_limit\": 10})"
   ]
  }
 ],
 "metadata": {
  "kernelspec": {
   "display_name": "autobox",
   "language": "python",
   "name": "python3"
  },
  "language_info": {
   "codemirror_mode": {
    "name": "ipython",
    "version": 3
   },
   "file_extension": ".py",
   "mimetype": "text/x-python",
   "name": "python",
   "nbconvert_exporter": "python",
   "pygments_lexer": "ipython3",
   "version": "3.12.4"
  }
 },
 "nbformat": 4,
 "nbformat_minor": 2
}
